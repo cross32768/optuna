{
 "cells": [
  {
   "cell_type": "code",
   "execution_count": 18,
   "id": "ef6ce4f5-df0a-4145-afd9-f82a17b91f8f",
   "metadata": {},
   "outputs": [
    {
     "ename": "ModuleNotFoundError",
     "evalue": "No module named 'optuna.visualization._rank'",
     "output_type": "error",
     "traceback": [
      "\u001b[0;31m---------------------------------------------------------------------------\u001b[0m",
      "\u001b[0;31mModuleNotFoundError\u001b[0m                       Traceback (most recent call last)",
      "Cell \u001b[0;32mIn[18], line 16\u001b[0m\n\u001b[1;32m     14\u001b[0m \u001b[38;5;28;01mfrom\u001b[39;00m \u001b[38;5;21;01moptuna\u001b[39;00m\u001b[38;5;21;01m.\u001b[39;00m\u001b[38;5;21;01mstudy\u001b[39;00m \u001b[38;5;28;01mimport\u001b[39;00m Study\n\u001b[1;32m     15\u001b[0m \u001b[38;5;28;01mfrom\u001b[39;00m \u001b[38;5;21;01moptuna\u001b[39;00m\u001b[38;5;21;01m.\u001b[39;00m\u001b[38;5;21;01mtrial\u001b[39;00m \u001b[38;5;28;01mimport\u001b[39;00m FrozenTrial\n\u001b[0;32m---> 16\u001b[0m \u001b[38;5;28;01mfrom\u001b[39;00m \u001b[38;5;21;01moptuna\u001b[39;00m\u001b[38;5;21;01m.\u001b[39;00m\u001b[38;5;21;01mvisualization\u001b[39;00m\u001b[38;5;21;01m.\u001b[39;00m\u001b[38;5;21;01m_rank\u001b[39;00m \u001b[38;5;28;01mimport\u001b[39;00m _get_rank_info\n\u001b[1;32m     17\u001b[0m \u001b[38;5;28;01mfrom\u001b[39;00m \u001b[38;5;21;01moptuna\u001b[39;00m\u001b[38;5;21;01m.\u001b[39;00m\u001b[38;5;21;01mvisualization\u001b[39;00m\u001b[38;5;21;01m.\u001b[39;00m\u001b[38;5;21;01mmatplotlib\u001b[39;00m\u001b[38;5;21;01m.\u001b[39;00m\u001b[38;5;21;01m_matplotlib_imports\u001b[39;00m \u001b[38;5;28;01mimport\u001b[39;00m _imports\n",
      "\u001b[0;31mModuleNotFoundError\u001b[0m: No module named 'optuna.visualization._rank'"
     ]
    }
   ],
   "source": [
    "from typing import Callable\n",
    "from typing import Dict\n",
    "from typing import List\n",
    "from typing import Optional\n",
    "from typing import Sequence\n",
    "from typing import Tuple\n",
    "from typing import Union\n",
    "\n",
    "import numpy as np\n",
    "\n",
    "from optuna._experimental import experimental_func\n",
    "from optuna._imports import try_import\n",
    "from optuna.logging import get_logger\n",
    "from optuna.study import Study\n",
    "from optuna.trial import FrozenTrial\n",
    "from optuna.visualization._rank import _get_rank_info\n",
    "from optuna.visualization.matplotlib._matplotlib_imports import _imports"
   ]
  },
  {
   "cell_type": "code",
   "execution_count": 15,
   "id": "b61d0317-4ecc-4308-836b-5f06b21276db",
   "metadata": {},
   "outputs": [],
   "source": [
    "@experimental_func(\"3.2.0\")\n",
    "def plot_rank(\n",
    "    study: Study,\n",
    "    params: Optional[List[str]] = None,\n",
    "    *,\n",
    "    target: Optional[Callable[[FrozenTrial], float]] = None,\n",
    "    target_name: str = \"Objective Value\",\n",
    ") -> \"Axes\":\n",
    "    \"\"\" TODO: write docstring \"\"\"\n",
    "\n",
    "    _imports.check()\n",
    "    _logger.warning(\n",
    "        \"Output figures of this Matplotlib-based `plot_rank` function would be different from \"\n",
    "        \"those of the Plotly-based `plot_rank`.\"\n",
    "    )\n",
    "    info = _get_rank_info(study, params, target, target_name)\n",
    "    return _get_rank_plot(info)"
   ]
  },
  {
   "cell_type": "code",
   "execution_count": 13,
   "id": "4d454578-529a-449d-b363-bd1fdf2f1c5d",
   "metadata": {},
   "outputs": [],
   "source": [
    "@experimental_func(\"2.2.0\")\n",
    "def plot_contour(\n",
    "    study: Study,\n",
    "    params: Optional[List[str]] = None,\n",
    "    *,\n",
    "    target: Optional[Callable[[FrozenTrial], float]] = None,\n",
    "    target_name: str = \"Objective Value\",\n",
    ") -> \"Axes\":\n",
    "    \"\"\"Plot the parameter relationship as contour plot in a study with Matplotlib.\n",
    "    Note that, if a parameter contains missing values, a trial with missing values is not plotted.\n",
    "    .. seealso::\n",
    "        Please refer to :func:`optuna.visualization.plot_contour` for an example.\n",
    "    Warnings:\n",
    "        Output figures of this Matplotlib-based\n",
    "        :func:`~optuna.visualization.matplotlib.plot_contour` function would be different from\n",
    "        those of the Plotly-based :func:`~optuna.visualization.plot_contour`.\n",
    "    Example:\n",
    "        The following code snippet shows how to plot the parameter relationship as contour plot.\n",
    "        .. plot::\n",
    "            import optuna\n",
    "            def objective(trial):\n",
    "                x = trial.suggest_float(\"x\", -100, 100)\n",
    "                y = trial.suggest_categorical(\"y\", [-1, 0, 1])\n",
    "                return x ** 2 + y\n",
    "            sampler = optuna.samplers.TPESampler(seed=10)\n",
    "            study = optuna.create_study(sampler=sampler)\n",
    "            study.optimize(objective, n_trials=30)\n",
    "            optuna.visualization.matplotlib.plot_contour(study, params=[\"x\", \"y\"])\n",
    "    Args:\n",
    "        study:\n",
    "            A :class:`~optuna.study.Study` object whose trials are plotted for their target values.\n",
    "        params:\n",
    "            Parameter list to visualize. The default is all parameters.\n",
    "        target:\n",
    "            A function to specify the value to display. If it is :obj:`None` and ``study`` is being\n",
    "            used for single-objective optimization, the objective values are plotted.\n",
    "            .. note::\n",
    "                Specify this argument if ``study`` is being used for multi-objective optimization.\n",
    "        target_name:\n",
    "            Target's name to display on the color bar.\n",
    "    Returns:\n",
    "        A :class:`matplotlib.axes.Axes` object.\n",
    "    .. note::\n",
    "        The colormap is reversed when the ``target`` argument isn't :obj:`None` or ``direction``\n",
    "        of :class:`~optuna.study.Study` is ``minimize``.\n",
    "    \"\"\"\n",
    "\n",
    "    _imports.check()\n",
    "    _logger.warning(\n",
    "        \"Output figures of this Matplotlib-based `plot_contour` function would be different from \"\n",
    "        \"those of the Plotly-based `plot_contour`.\"\n",
    "    )\n",
    "    info = _get_contour_info(study, params, target, target_name)\n",
    "    return _get_contour_plot(info)"
   ]
  },
  {
   "cell_type": "code",
   "execution_count": null,
   "id": "218e3860-2761-47f0-9481-6b0eaf06dddd",
   "metadata": {},
   "outputs": [],
   "source": []
  }
 ],
 "metadata": {
  "kernelspec": {
   "display_name": "Python 3 (ipykernel)",
   "language": "python",
   "name": "python3"
  },
  "language_info": {
   "codemirror_mode": {
    "name": "ipython",
    "version": 3
   },
   "file_extension": ".py",
   "mimetype": "text/x-python",
   "name": "python",
   "nbconvert_exporter": "python",
   "pygments_lexer": "ipython3",
   "version": "3.9.12"
  }
 },
 "nbformat": 4,
 "nbformat_minor": 5
}
